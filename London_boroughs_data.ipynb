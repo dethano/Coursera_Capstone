{
 "cells": [
  {
   "cell_type": "markdown",
   "id": "altered-momentum",
   "metadata": {},
   "source": [
    "# London Boroughs"
   ]
  },
  {
   "cell_type": "markdown",
   "id": "nervous-elements",
   "metadata": {},
   "source": [
    "## 1. Introduction"
   ]
  },
  {
   "cell_type": "markdown",
   "id": "equivalent-glenn",
   "metadata": {},
   "source": [
    "In this notebook we will explore London neighborhoods and use crime data along data science machine learning to come up with selections to live."
   ]
  },
  {
   "cell_type": "markdown",
   "id": "latter-heading",
   "metadata": {},
   "source": [
    "## 2. Business Problem"
   ]
  },
  {
   "cell_type": "markdown",
   "id": "verified-estate",
   "metadata": {},
   "source": [
    "When you want to move in to London the choice can be overwhelming as there are 32 boroughs with hundrends of neighborhoods to choose from. Before you decide on the location, one criterion is to avoid areas with high crime. Once you have selected a low crime area then you would like to examine the venues and facilities availability by each area that complements you lifestyle. From then on you have reached a level of analysis that has narrowed down your options from a hundrent to less than 20! "
   ]
  },
  {
   "cell_type": "markdown",
   "id": "comparable-ireland",
   "metadata": {},
   "source": [
    "In this notebook we will use data science along with fourquare venue details to help guide a daunting task a such."
   ]
  },
  {
   "cell_type": "markdown",
   "id": "artificial-november",
   "metadata": {},
   "source": [
    "## 3. Data"
   ]
  },
  {
   "cell_type": "markdown",
   "id": "given-welcome",
   "metadata": {},
   "source": [
    "For this project we will scrape London Boroughs from wikipedia https://en.wikipedia.org/wiki/List_of_London_boroughs and relevant crime data from https://en.wikipedia.org/wiki/Crime_in_London and finally download a comprehensive crime list per area from https://data.london.gov.uk/dataset/recorded_crime_summary"
   ]
  },
  {
   "cell_type": "markdown",
   "id": "raising-recommendation",
   "metadata": {},
   "source": [
    "We will then decide which area to focus on and get a list of London neighborhoods from https://en.wikipedia.org/wiki/List_of_areas_of_London and link their geographical coordinates from https://geohack.toolforge.org"
   ]
  },
  {
   "cell_type": "markdown",
   "id": "acquired-basement",
   "metadata": {},
   "source": [
    "For the selected borough we will use the fourquare api to get venues in each neighborhood and cluster them using the k means algorithm from the scikit learn python library. All visualizations will use folio."
   ]
  },
  {
   "cell_type": "code",
   "execution_count": null,
   "id": "decimal-melbourne",
   "metadata": {},
   "outputs": [],
   "source": []
  }
 ],
 "metadata": {
  "kernelspec": {
   "display_name": "Python 3",
   "language": "python",
   "name": "python3"
  },
  "language_info": {
   "codemirror_mode": {
    "name": "ipython",
    "version": 3
   },
   "file_extension": ".py",
   "mimetype": "text/x-python",
   "name": "python",
   "nbconvert_exporter": "python",
   "pygments_lexer": "ipython3",
   "version": "3.9.1"
  }
 },
 "nbformat": 4,
 "nbformat_minor": 5
}
