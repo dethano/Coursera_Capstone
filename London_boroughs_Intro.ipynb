{
 "cells": [
  {
   "cell_type": "markdown",
   "id": "scheduled-enforcement",
   "metadata": {},
   "source": [
    "# London Boroughs"
   ]
  },
  {
   "cell_type": "markdown",
   "id": "pleasant-bacteria",
   "metadata": {},
   "source": [
    "## 1. Introduction"
   ]
  },
  {
   "cell_type": "markdown",
   "id": "rising-violin",
   "metadata": {},
   "source": [
    "In this notebook we will explore London neighborhoods and use crime data along data science machine learning to come up with selections to live."
   ]
  },
  {
   "cell_type": "markdown",
   "id": "lasting-installation",
   "metadata": {},
   "source": [
    "## 2. Business Problem"
   ]
  },
  {
   "cell_type": "markdown",
   "id": "grateful-overview",
   "metadata": {},
   "source": [
    "When you want to move in to London the choice can be overwhelming as there are 32 boroughs with hundrends of neighborhoods to choose from. Before you decide on the location, one criterion is to avoid areas with high crime. Once you have selected a low crime area then you would like to examine the venues and facilities availability by each area that complements you lifestyle. From then on you have reached a level of analysis that has narrowed down your options from a hundrent to less than 20! "
   ]
  },
  {
   "cell_type": "markdown",
   "id": "suspended-photograph",
   "metadata": {},
   "source": []
  }
 ],
 "metadata": {
  "kernelspec": {
   "display_name": "Python 3",
   "language": "python",
   "name": "python3"
  },
  "language_info": {
   "codemirror_mode": {
    "name": "ipython",
    "version": 3
   },
   "file_extension": ".py",
   "mimetype": "text/x-python",
   "name": "python",
   "nbconvert_exporter": "python",
   "pygments_lexer": "ipython3",
   "version": "3.9.1"
  }
 },
 "nbformat": 4,
 "nbformat_minor": 5
}
