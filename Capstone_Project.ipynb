{
 "cells": [
  {
   "cell_type": "markdown",
   "id": "innovative-pearl",
   "metadata": {},
   "source": [
    "**Capstone project**"
   ]
  },
  {
   "cell_type": "markdown",
   "id": "soviet-insulin",
   "metadata": {},
   "source": [
    "This is the final data science project. We will explore the neighbourhoods of Toronto."
   ]
  },
  {
   "cell_type": "code",
   "execution_count": 1,
   "id": "rental-access",
   "metadata": {},
   "outputs": [],
   "source": [
    "import numpy as np\n",
    "import pandas as pd"
   ]
  },
  {
   "cell_type": "code",
   "execution_count": 2,
   "id": "collect-mambo",
   "metadata": {},
   "outputs": [
    {
     "name": "stdout",
     "output_type": "stream",
     "text": [
      "Hello Capstone Project Course!\n"
     ]
    }
   ],
   "source": [
    "print('Hello Capstone Project Course!')"
   ]
  },
  {
   "cell_type": "code",
   "execution_count": null,
   "id": "creative-grammar",
   "metadata": {},
   "outputs": [],
   "source": []
  }
 ],
 "metadata": {
  "kernelspec": {
   "display_name": "Python 3",
   "language": "python",
   "name": "python3"
  },
  "language_info": {
   "codemirror_mode": {
    "name": "ipython",
    "version": 3
   },
   "file_extension": ".py",
   "mimetype": "text/x-python",
   "name": "python",
   "nbconvert_exporter": "python",
   "pygments_lexer": "ipython3",
   "version": "3.9.1"
  }
 },
 "nbformat": 4,
 "nbformat_minor": 5
}
